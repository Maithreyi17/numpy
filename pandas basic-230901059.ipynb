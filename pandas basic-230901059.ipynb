{
 "cells": [
  {
   "cell_type": "code",
   "execution_count": 2,
   "id": "35c3a9c5",
   "metadata": {},
   "outputs": [
    {
     "name": "stdout",
     "output_type": "stream",
     "text": [
      "Empty DataFrame\n",
      "Columns: []\n",
      "Index: []\n"
     ]
    }
   ],
   "source": [
    "import pandas as pd\n",
    "df=pd.DataFrame()\n",
    "print(df)"
   ]
  },
  {
   "cell_type": "code",
   "execution_count": 4,
   "id": "b00a8938",
   "metadata": {},
   "outputs": [
    {
     "name": "stdout",
     "output_type": "stream",
     "text": [
      "\n",
      " Series to DataFrame\n",
      "\n",
      "      Emp  ID\n",
      "0     Uma  10\n",
      "1    Siva  20\n",
      "2  Sindhu  30\n",
      "3    Ravi  40\n"
     ]
    }
   ],
   "source": [
    "emp=pd.Series(['Uma','Siva','Sindhu','Ravi'])\n",
    "id=pd.Series([10,20,30,40])\n",
    "Frame={'Emp':emp,'ID':id}\n",
    "result=pd.DataFrame(Frame)\n",
    "print(\"\\n Series to DataFrame\\n\")\n",
    "print(result)"
   ]
  },
  {
   "cell_type": "code",
   "execution_count": 5,
   "id": "86b3767d",
   "metadata": {},
   "outputs": [
    {
     "name": "stdout",
     "output_type": "stream",
     "text": [
      "\n",
      " ExtractingOneColumn\n",
      "\n",
      "0       Uma\n",
      "1      Siva\n",
      "2    Sindhu\n",
      "3      Ravi\n",
      "Name: Emp, dtype: object\n"
     ]
    }
   ],
   "source": [
    "print(\"\\n ExtractingOneColumn\\n\")\n",
    "print(result['Emp'])"
   ]
  },
  {
   "cell_type": "code",
   "execution_count": 6,
   "id": "e2946048",
   "metadata": {},
   "outputs": [
    {
     "name": "stdout",
     "output_type": "stream",
     "text": [
      "      Emp  ID  Age\n",
      "0     Uma  10   20\n",
      "1    Siva  20   25\n",
      "2  Sindhu  30   30\n",
      "3    Ravi  40   50\n"
     ]
    }
   ],
   "source": [
    "#adding a new column\n",
    "result['Age']=pd.Series([20,25,30,50])\n",
    "print(result)"
   ]
  },
  {
   "cell_type": "code",
   "execution_count": 10,
   "id": "0ae8c809",
   "metadata": {},
   "outputs": [
    {
     "name": "stdout",
     "output_type": "stream",
     "text": [
      "      Emp  ID\n",
      "0     Uma  10\n",
      "1    Siva  20\n",
      "2  Sindhu  30\n",
      "3    Ravi  40\n"
     ]
    }
   ],
   "source": [
    "#delete an existing column\n",
    "del result['Age']\n",
    "print(result)"
   ]
  },
  {
   "cell_type": "code",
   "execution_count": 15,
   "id": "e44a6f3e",
   "metadata": {},
   "outputs": [
    {
     "name": "stdout",
     "output_type": "stream",
     "text": [
      "\n",
      " Extracting the Second Row \n",
      "\n",
      "Emp    Siva\n",
      "ID       20\n",
      "Name: 1, dtype: object\n"
     ]
    }
   ],
   "source": [
    "#extracting the second row\n",
    "print(\"\\n Extracting the Second Row \\n\")\n",
    "print(result.loc[1])"
   ]
  },
  {
   "cell_type": "code",
   "execution_count": 17,
   "id": "e91f1333",
   "metadata": {},
   "outputs": [
    {
     "name": "stdout",
     "output_type": "stream",
     "text": [
      "slice rows:\n",
      "       Emp  ID\n",
      "0     Uma  10\n",
      "1    Siva  20\n",
      "2  Sindhu  30\n"
     ]
    }
   ],
   "source": [
    "#slice rows\n",
    "print(\"slice rows:\\n\",result[0:3])"
   ]
  },
  {
   "cell_type": "code",
   "execution_count": 22,
   "id": "6a77c537",
   "metadata": {},
   "outputs": [
    {
     "name": "stdout",
     "output_type": "stream",
     "text": [
      "\n",
      "Adding new row values\n",
      "       Emp  ID\n",
      "0     Uma  10\n",
      "1    Siva  20\n",
      "2  Sindhu  30\n",
      "3    Ravi  40\n",
      "0     Anu  20\n",
      "1    Jinu  19\n"
     ]
    }
   ],
   "source": [
    "d2=pd.DataFrame([['Anu',20],['Jinu',19]],columns=['Emp','ID'])\n",
    "print(\"\\nAdding new row values\\n\",pd.concat([result,d2]))"
   ]
  },
  {
   "cell_type": "code",
   "execution_count": 23,
   "id": "ed9bb1ee",
   "metadata": {},
   "outputs": [
    {
     "name": "stdout",
     "output_type": "stream",
     "text": [
      "    Emp  ID\n",
      "0   Uma  10\n",
      "1  Siva  20\n",
      "3  Ravi  40\n"
     ]
    }
   ],
   "source": [
    "#delete an existing row\n",
    "print(result.drop(2))"
   ]
  },
  {
   "cell_type": "code",
   "execution_count": null,
   "id": "fb78dae5",
   "metadata": {},
   "outputs": [],
   "source": []
  }
 ],
 "metadata": {
  "kernelspec": {
   "display_name": "Python 3 (ipykernel)",
   "language": "python",
   "name": "python3"
  },
  "language_info": {
   "codemirror_mode": {
    "name": "ipython",
    "version": 3
   },
   "file_extension": ".py",
   "mimetype": "text/x-python",
   "name": "python",
   "nbconvert_exporter": "python",
   "pygments_lexer": "ipython3",
   "version": "3.11.5"
  }
 },
 "nbformat": 4,
 "nbformat_minor": 5
}
