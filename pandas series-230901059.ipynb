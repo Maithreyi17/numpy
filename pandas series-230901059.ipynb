{
 "cells": [
  {
   "cell_type": "code",
   "execution_count": 8,
   "id": "59aa7817",
   "metadata": {},
   "outputs": [
    {
     "name": "stdout",
     "output_type": "stream",
     "text": [
      "0    M\n",
      "1    a\n",
      "2    i\n",
      "3    t\n",
      "4    h\n",
      "5    r\n",
      "6    e\n",
      "7    y\n",
      "8    i\n",
      "dtype: object\n"
     ]
    }
   ],
   "source": [
    "import pandas as pd\n",
    "import numpy as np\n",
    "arr=np.array(['M','a','i','t','h','r','e','y','i'])\n",
    "a=pd.Series(arr)\n",
    "print(a)"
   ]
  },
  {
   "cell_type": "code",
   "execution_count": 2,
   "id": "73e2fa11",
   "metadata": {},
   "outputs": [
    {
     "name": "stdout",
     "output_type": "stream",
     "text": [
      "['M' 'a' 'i' 't' 'h' 'r' 'e' 'y' 'i']\n"
     ]
    }
   ],
   "source": [
    "print(arr)"
   ]
  },
  {
   "cell_type": "code",
   "execution_count": 6,
   "id": "21671646",
   "metadata": {},
   "outputs": [
    {
     "name": "stdout",
     "output_type": "stream",
     "text": [
      "a    0\n",
      "b    1\n",
      "c    2\n",
      "dtype: int64\n"
     ]
    }
   ],
   "source": [
    "import pandas as pd\n",
    "import numpy as np\n",
    "arr1={'a':0,'b':1,'c':2}\n",
    "a1=pd.Series(arr1)\n",
    "print(a1)"
   ]
  },
  {
   "cell_type": "code",
   "execution_count": 4,
   "id": "9708bd37",
   "metadata": {},
   "outputs": [
    {
     "name": "stdout",
     "output_type": "stream",
     "text": [
      "0    4\n",
      "1    4\n",
      "2    4\n",
      "3    4\n",
      "dtype: object\n"
     ]
    }
   ],
   "source": [
    "import pandas as pd\n",
    "import numpy as np\n",
    "scalar=pd.Series('4',index=[0,1,2,3])\n",
    "print(scalar)"
   ]
  },
  {
   "cell_type": "code",
   "execution_count": 12,
   "id": "aee02147",
   "metadata": {},
   "outputs": [
    {
     "name": "stdout",
     "output_type": "stream",
     "text": [
      "\n",
      "Series: \n",
      " 0    M\n",
      "1    a\n",
      "2    i\n",
      "3    t\n",
      "4    h\n",
      "5    r\n",
      "6    e\n",
      "7    y\n",
      "8    i\n",
      "dtype: object\n",
      "\n",
      "index:\n",
      " RangeIndex(start=0, stop=9, step=1)\n",
      "\n",
      "values:\n",
      " ['M' 'a' 'i' 't' 'h' 'r' 'e' 'y' 'i']\n",
      "\n",
      " shape:\n",
      " (9,)\n",
      "\n",
      " dimensions:\n",
      " 1\n",
      "\n",
      " size:/n 9\n"
     ]
    }
   ],
   "source": [
    "#pandas series from dictionary\n",
    "print(\"\\nSeries: \\n\",a)\n",
    "print(\"\\nindex:\\n\",a.index)\n",
    "print(\"\\nvalues:\\n\",a.values)\n",
    "print(\"\\n shape:\\n\",a.shape)\n",
    "print(\"\\n dimensions:\\n\",a.ndim)\n",
    "print(\"\\n size:/n\",a.size)\n"
   ]
  },
  {
   "cell_type": "code",
   "execution_count": null,
   "id": "924efd6b",
   "metadata": {},
   "outputs": [],
   "source": []
  }
 ],
 "metadata": {
  "kernelspec": {
   "display_name": "Python 3 (ipykernel)",
   "language": "python",
   "name": "python3"
  },
  "language_info": {
   "codemirror_mode": {
    "name": "ipython",
    "version": 3
   },
   "file_extension": ".py",
   "mimetype": "text/x-python",
   "name": "python",
   "nbconvert_exporter": "python",
   "pygments_lexer": "ipython3",
   "version": "3.11.5"
  }
 },
 "nbformat": 4,
 "nbformat_minor": 5
}
