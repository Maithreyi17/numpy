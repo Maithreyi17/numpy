{
 "cells": [
  {
   "cell_type": "code",
   "execution_count": 1,
   "id": "dcee738d",
   "metadata": {},
   "outputs": [
    {
     "name": "stdout",
     "output_type": "stream",
     "text": [
      "one dimensional array: [1 2 3 4 5]\n"
     ]
    }
   ],
   "source": [
    "import numpy as np\n",
    "a=np.array([1,2,3,4,5])\n",
    "print(\"one dimensional array:\",a)"
   ]
  },
  {
   "cell_type": "code",
   "execution_count": 2,
   "id": "0f3dcdf0",
   "metadata": {},
   "outputs": [
    {
     "name": "stdout",
     "output_type": "stream",
     "text": [
      "two dimensional array: [[10 20 30]\n",
      " [50 60 70]]\n"
     ]
    }
   ],
   "source": [
    "import numpy as np\n",
    "b=np.array([[10,20,30],[50,60,70]])\n",
    "print(\"two dimensional array:\",b)"
   ]
  },
  {
   "cell_type": "code",
   "execution_count": 3,
   "id": "b791bed1",
   "metadata": {},
   "outputs": [
    {
     "name": "stdout",
     "output_type": "stream",
     "text": [
      "three dimensional array: [[10 20 30]\n",
      " [40 50 60]\n",
      " [70 80 90]]\n"
     ]
    }
   ],
   "source": [
    "import numpy as np\n",
    "x=np.array([[10,20,30],[40,50,60],[70,80,90]])\n",
    "print(\"three dimensional array:\",x)"
   ]
  },
  {
   "cell_type": "code",
   "execution_count": 4,
   "id": "e81779ff",
   "metadata": {},
   "outputs": [
    {
     "name": "stdout",
     "output_type": "stream",
     "text": [
      "\n",
      " array with all zeros:\n",
      " [[0. 0. 0. 0. 0.]\n",
      " [0. 0. 0. 0. 0.]\n",
      " [0. 0. 0. 0. 0.]]\n"
     ]
    }
   ],
   "source": [
    "import numpy as np\n",
    "y=np.zeros((3,5))\n",
    "print(\"\\n array with all zeros:\\n\",y)"
   ]
  },
  {
   "cell_type": "code",
   "execution_count": 5,
   "id": "36ed1b92",
   "metadata": {},
   "outputs": [
    {
     "name": "stdout",
     "output_type": "stream",
     "text": [
      "\n",
      " Random values:\n",
      " [[0.75350766 0.33334406]\n",
      " [0.84599248 0.1113054 ]]\n"
     ]
    }
   ],
   "source": [
    "import numpy as np\n",
    "n=np.random.random((2,2))\n",
    "print(\"\\n Random values:\\n\",n)"
   ]
  },
  {
   "cell_type": "code",
   "execution_count": 7,
   "id": "3537c501",
   "metadata": {},
   "outputs": [
    {
     "name": "stdout",
     "output_type": "stream",
     "text": [
      "\n",
      " Sequence array \n",
      " [ 3  6  9 12 15 18]\n"
     ]
    }
   ],
   "source": [
    "import numpy as np\n",
    "m=np.arange(3,20,3)\n",
    "print(\"\\n Sequence array \\n\",m)"
   ]
  },
  {
   "cell_type": "code",
   "execution_count": 8,
   "id": "25569f1d",
   "metadata": {},
   "outputs": [
    {
     "name": "stdout",
     "output_type": "stream",
     "text": [
      "\n",
      " original array:\n",
      " [[ 1  2  3  4]\n",
      " [ 7  8  9  6]\n",
      " [ 0 11 50 32]]\n",
      "\n",
      " reshaped array:\n",
      " [[ 1  2  3]\n",
      " [ 4  7  8]\n",
      " [ 9  6  0]\n",
      " [11 50 32]]\n"
     ]
    }
   ],
   "source": [
    "import numpy as np\n",
    "f=np.array([[1,2,3,4],[7,8,9,6],[0,11,50,32]])\n",
    "g=f.reshape(4,3)\n",
    "print(\"\\n original array:\\n\",f)\n",
    "print(\"\\n reshaped array:\\n\",g)"
   ]
  },
  {
   "cell_type": "code",
   "execution_count": 9,
   "id": "a218ae25",
   "metadata": {
    "scrolled": true
   },
   "outputs": [
    {
     "name": "stdout",
     "output_type": "stream",
     "text": [
      "\n",
      " original array:\n",
      " [[1 2 3]\n",
      " [4 5 6]]\n",
      "flattened array: [1 2 3 4 5 6]\n"
     ]
    }
   ],
   "source": [
    "import numpy as np\n",
    "p=np.array([[1,2,3],[4,5,6]])\n",
    "flat=p.flatten()\n",
    "print(\"\\n original array:\\n\",p)\n",
    "print(\"flattened array:\",flat)"
   ]
  },
  {
   "cell_type": "code",
   "execution_count": 14,
   "id": "955d033c",
   "metadata": {
    "scrolled": true
   },
   "outputs": [
    {
     "name": "stdout",
     "output_type": "stream",
     "text": [
      "\n",
      " No.Of.Dimensions:\n",
      " 2\n"
     ]
    }
   ],
   "source": [
    "print(\"\\n No.Of.Dimensions:\\n\",p.ndim)"
   ]
  },
  {
   "cell_type": "code",
   "execution_count": 17,
   "id": "e27affb5",
   "metadata": {},
   "outputs": [
    {
     "name": "stdout",
     "output_type": "stream",
     "text": [
      "no.of.dimensions: 1\n"
     ]
    }
   ],
   "source": [
    "import numpy as np\n",
    "o=np.array([5,6,7,8,9,0])\n",
    "print(\"no.of.dimensions:\",o.ndim)"
   ]
  },
  {
   "cell_type": "code",
   "execution_count": 23,
   "id": "dfd58cb6",
   "metadata": {},
   "outputs": [
    {
     "name": "stdout",
     "output_type": "stream",
     "text": [
      "no.of dimensions: 3\n"
     ]
    }
   ],
   "source": [
    "import numpy as np\n",
    "a=np.array([[[1,2,3],[4,5,6]],[[7,8,9],[10,11,12]]])\n",
    "print(\"no.of dimensions:\",a.ndim)"
   ]
  },
  {
   "cell_type": "code",
   "execution_count": 24,
   "id": "d7c1dbc7",
   "metadata": {},
   "outputs": [
    {
     "name": "stdout",
     "output_type": "stream",
     "text": [
      "shape of the array: (2, 3)\n"
     ]
    }
   ],
   "source": [
    "import numpy as np\n",
    "b=np.array([[1,2,3],[4,5,6]])\n",
    "print(\"shape of the array:\",b.shape)"
   ]
  },
  {
   "cell_type": "code",
   "execution_count": 25,
   "id": "ced24d68",
   "metadata": {},
   "outputs": [
    {
     "name": "stdout",
     "output_type": "stream",
     "text": [
      "\n",
      " Array element type: int64\n"
     ]
    }
   ],
   "source": [
    "print(\"\\n Array element type:\",b.dtype)"
   ]
  },
  {
   "cell_type": "code",
   "execution_count": 26,
   "id": "195875ca",
   "metadata": {},
   "outputs": [
    {
     "name": "stdout",
     "output_type": "stream",
     "text": [
      "\n",
      " size of the array:\n",
      " 2\n"
     ]
    }
   ],
   "source": [
    "size=len(b)\n",
    "print(\"\\n size of the array:\\n\",size)"
   ]
  },
  {
   "cell_type": "code",
   "execution_count": 31,
   "id": "a9ff2b76",
   "metadata": {},
   "outputs": [
    {
     "name": "stdout",
     "output_type": "stream",
     "text": [
      "size of array: 4\n"
     ]
    }
   ],
   "source": [
    "import numpy as np\n",
    "c=np.array([1,2,3,4])\n",
    "size=len(c)\n",
    "print(\"size of array:\",c.size)"
   ]
  },
  {
   "cell_type": "code",
   "execution_count": 1,
   "id": "5359e0a7",
   "metadata": {},
   "outputs": [
    {
     "name": "stdout",
     "output_type": "stream",
     "text": [
      "[1. 2. 3.]\n",
      "float64\n"
     ]
    }
   ],
   "source": [
    "import numpy as np\n",
    "a=[1,2,3]\n",
    "a=np.array(a)\n",
    "newtype=a.astype('float64')\n",
    "print(newtype)\n",
    "print(newtype.dtype)"
   ]
  },
  {
   "cell_type": "code",
   "execution_count": null,
   "id": "18423391",
   "metadata": {},
   "outputs": [],
   "source": []
  }
 ],
 "metadata": {
  "kernelspec": {
   "display_name": "Python 3 (ipykernel)",
   "language": "python",
   "name": "python3"
  },
  "language_info": {
   "codemirror_mode": {
    "name": "ipython",
    "version": 3
   },
   "file_extension": ".py",
   "mimetype": "text/x-python",
   "name": "python",
   "nbconvert_exporter": "python",
   "pygments_lexer": "ipython3",
   "version": "3.11.5"
  }
 },
 "nbformat": 4,
 "nbformat_minor": 5
}
