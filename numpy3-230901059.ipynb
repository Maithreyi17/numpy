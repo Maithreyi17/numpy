{
 "cells": [
  {
   "cell_type": "code",
   "execution_count": 1,
   "id": "87bce4fe",
   "metadata": {},
   "outputs": [
    {
     "name": "stdout",
     "output_type": "stream",
     "text": [
      "(array([1, 4]),)\n"
     ]
    }
   ],
   "source": [
    "import numpy as np\n",
    "x=np.array([1,6,2,7,6,4])\n",
    "x1=np.where(x==6)\n",
    "print(x1)"
   ]
  },
  {
   "cell_type": "code",
   "execution_count": 2,
   "id": "60062536",
   "metadata": {},
   "outputs": [
    {
     "name": "stdout",
     "output_type": "stream",
     "text": [
      "(array([3]),)\n"
     ]
    }
   ],
   "source": [
    "x2=np.where(x==7)\n",
    "print(x2)"
   ]
  },
  {
   "cell_type": "code",
   "execution_count": 3,
   "id": "c017e2c9",
   "metadata": {},
   "outputs": [
    {
     "name": "stdout",
     "output_type": "stream",
     "text": [
      "(array([1, 2, 4, 5]),)\n"
     ]
    }
   ],
   "source": [
    "y=np.where(x%2==0)\n",
    "print(y)"
   ]
  },
  {
   "cell_type": "code",
   "execution_count": 6,
   "id": "5fe79cd5",
   "metadata": {},
   "outputs": [
    {
     "name": "stdout",
     "output_type": "stream",
     "text": [
      "(array([0, 3, 5]),)\n"
     ]
    }
   ],
   "source": [
    "p=np.where(x%3==1)\n",
    "print(p)"
   ]
  },
  {
   "cell_type": "code",
   "execution_count": 8,
   "id": "a7a93654",
   "metadata": {},
   "outputs": [
    {
     "name": "stdout",
     "output_type": "stream",
     "text": [
      "6\n"
     ]
    }
   ],
   "source": [
    "#inserting an array in a position \n",
    "import numpy as np\n",
    "arr=np.array([0,1,2,2,7,8,9])\n",
    "x=np.searchsorted(arr,8,side='right')\n",
    "print(x)"
   ]
  },
  {
   "cell_type": "code",
   "execution_count": 9,
   "id": "20f48ed4",
   "metadata": {},
   "outputs": [
    {
     "name": "stdout",
     "output_type": "stream",
     "text": [
      "[2 4 5 6 7 9]\n"
     ]
    }
   ],
   "source": [
    "#sorting of 1D array\n",
    "import numpy as np\n",
    "a=np.array([9,5,2,7,6,4])\n",
    "print(np.sort(a))"
   ]
  },
  {
   "cell_type": "code",
   "execution_count": 11,
   "id": "d464c28b",
   "metadata": {},
   "outputs": [
    {
     "name": "stdout",
     "output_type": "stream",
     "text": [
      "[[4 7 9]\n",
      " [1 4 9]]\n"
     ]
    }
   ],
   "source": [
    "#for 2D array\n",
    "a=([[7,4,9],[9,1,4]])\n",
    "print(np.sort(a))"
   ]
  },
  {
   "cell_type": "code",
   "execution_count": 13,
   "id": "e9b9a7a4",
   "metadata": {},
   "outputs": [
    {
     "name": "stdout",
     "output_type": "stream",
     "text": [
      "[False, True, False, True]\n",
      "[ 78 100]\n"
     ]
    }
   ],
   "source": [
    "#boolean indexing\n",
    "import numpy as np\n",
    "arr=np.array([31,78,69,100])\n",
    "x=[False,True,False,True]\n",
    "newarr=arr[x]\n",
    "print(x)\n",
    "print(newarr)"
   ]
  },
  {
   "cell_type": "code",
   "execution_count": 16,
   "id": "a1d288d1",
   "metadata": {},
   "outputs": [
    {
     "name": "stdout",
     "output_type": "stream",
     "text": [
      "[ True False  True False]\n"
     ]
    }
   ],
   "source": [
    "#filter\n",
    "filter_arr=arr<70\n",
    "print(filter_arr)\n"
   ]
  },
  {
   "cell_type": "code",
   "execution_count": null,
   "id": "013f36e5",
   "metadata": {},
   "outputs": [],
   "source": []
  }
 ],
 "metadata": {
  "kernelspec": {
   "display_name": "Python 3 (ipykernel)",
   "language": "python",
   "name": "python3"
  },
  "language_info": {
   "codemirror_mode": {
    "name": "ipython",
    "version": 3
   },
   "file_extension": ".py",
   "mimetype": "text/x-python",
   "name": "python",
   "nbconvert_exporter": "python",
   "pygments_lexer": "ipython3",
   "version": "3.11.5"
  }
 },
 "nbformat": 4,
 "nbformat_minor": 5
}
